{
  "cells": [
    {
      "cell_type": "code",
      "source": [
        "# 2_model_training.ipynb\n",
        "\n",
        "import pandas as pd\n",
        "from sklearn.model_selection import train_test_split\n",
        "from sklearn.ensemble import RandomForestClassifier\n",
        "from sklearn.metrics import classification_report, roc_auc_score\n",
        "import joblib\n",
        "\n",
        "# Load cleaned dataset\n",
        "df = pd.read_csv(\"default_credit_card_clean.csv\")\n",
        "\n",
        "# Separate features and target\n",
        "X = df.drop(columns=[\"default\"])\n",
        "y = df[\"default\"]\n",
        "\n",
        "# Train/test split\n",
        "X_train, X_test, y_train, y_test = train_test_split(\n",
        "    X, y, test_size=0.2, random_state=42\n",
        ")\n",
        "\n",
        "# Train Random Forest model\n",
        "model = RandomForestClassifier(n_estimators=100, random_state=42)\n",
        "model.fit(X_train, y_train)\n",
        "\n",
        "# Evaluate model\n",
        "y_pred = model.predict(X_test)\n",
        "y_proba = model.predict_proba(X_test)[:, 1]\n",
        "\n",
        "print(\"\\n📊 Classification Report:\\n\")\n",
        "print(classification_report(y_test, y_pred))\n",
        "print(\"\\n🔥 AUC Score:\", roc_auc_score(y_test, y_proba))\n",
        "\n",
        "# Save model\n",
        "joblib.dump(model, \"rf_credit_model.pkl\")\n",
        "print(\"\\n✅ Model saved as 'rf_credit_model.pkl'\")\n"
      ],
      "outputs": [
        {
          "output_type": "stream",
          "name": "stdout",
          "text": "\n📊 Classification Report:\n\n              precision    recall  f1-score   support\n\n           0       0.84      0.94      0.89      4687\n           1       0.64      0.37      0.47      1313\n\n    accuracy                           0.82      6000\n   macro avg       0.74      0.65      0.68      6000\nweighted avg       0.80      0.82      0.80      6000\n\n\n🔥 AUC Score: 0.7577788444679593\n\n✅ Model saved as 'rf_credit_model.pkl'\n"
        }
      ],
      "execution_count": 22,
      "metadata": {
        "gather": {
          "logged": 1751693957415
        }
      }
    }
  ],
  "metadata": {
    "kernelspec": {
      "name": "python38-azureml",
      "language": "python",
      "display_name": "Python 3.10 - AzureML"
    },
    "language_info": {
      "name": "python",
      "version": "3.10.11",
      "mimetype": "text/x-python",
      "codemirror_mode": {
        "name": "ipython",
        "version": 3
      },
      "pygments_lexer": "ipython3",
      "nbconvert_exporter": "python",
      "file_extension": ".py"
    },
    "microsoft": {
      "ms_spell_check": {
        "ms_spell_check_language": "en"
      },
      "host": {
        "AzureML": {
          "notebookHasBeenCompleted": true
        }
      }
    },
    "kernel_info": {
      "name": "python38-azureml"
    },
    "nteract": {
      "version": "nteract-front-end@1.0.0"
    }
  },
  "nbformat": 4,
  "nbformat_minor": 2
}